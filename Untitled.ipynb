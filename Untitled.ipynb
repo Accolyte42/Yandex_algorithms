{
 "cells": [
  {
   "cell_type": "markdown",
   "id": "2b91faf0",
   "metadata": {},
   "source": [
    "# Задача A. Interactor"
   ]
  },
  {
   "cell_type": "markdown",
   "id": "2e74504e",
   "metadata": {},
   "source": [
    "Лена руководит разработкой тестирующей системы, в которой реализованы интерактивные задачи.\n",
    "До заверщения очередной стадии проекта осталось написать модуль, определяющий итоговый вердикт системы для интерактивной задачи. Итоговый вердикт определяется из кода завершения задачи, вердикта интерактора и вердикта чекера по следующим правилам:\n",
    "\n",
    "- Вердикт чекера и вердикт интерактора — это целые числа от 0 до 7 включительно.\n",
    "- Код завершения задачи — это целое число от -128 до 127 включительно.\n",
    "- Если интерактор выдал вердикт 0, итоговый вердикт равен 3 в случае, если программа завершилась с ненулевым кодом, и вердикту чекера в противном случае.\n",
    "- Если интерактор выдал вердикт 1, итоговый вердикт равен вердикту чекера.\n",
    "- Если интерактор выдал вердикт 4, итоговый вердикт равен 3 в случае, если программа завершилась с ненулевым кодом, и 4 в противном случае.\n",
    "- Если интерактор выдал вердикт 6, итоговый вердикт равен 0.\n",
    "- Если интерактор выдал вердикт 7, итоговый вердикт равен 1.\n",
    "- В остальных случаях итоговый вердикт равен вердикту интерактора.\n",
    "\n",
    "Ваша задача — реализовать этот модуль."
   ]
  },
  {
   "cell_type": "code",
   "execution_count": 103,
   "id": "36a36f0a",
   "metadata": {},
   "outputs": [],
   "source": [
    "from random import randrange\n",
    "import pandas as pd"
   ]
  },
  {
   "cell_type": "code",
   "execution_count": 65,
   "id": "47950bc0",
   "metadata": {},
   "outputs": [
    {
     "name": "stdout",
     "output_type": "stream",
     "text": [
      "2\n",
      "45\n",
      "32\n"
     ]
    }
   ],
   "source": [
    "i = int(input())\n",
    "r = int(input())\n",
    "# i = int(input())\n",
    "c = int(input())"
   ]
  },
  {
   "cell_type": "code",
   "execution_count": 66,
   "id": "5909d600",
   "metadata": {},
   "outputs": [
    {
     "name": "stdout",
     "output_type": "stream",
     "text": [
      "2\n"
     ]
    }
   ],
   "source": [
    "if i == 0:\n",
    "    if r != 0:\n",
    "        print(3)\n",
    "    else:\n",
    "        print(c)\n",
    "elif i == 1:\n",
    "    print(c)\n",
    "elif i == 4:\n",
    "    if r != 0:\n",
    "        print(3)\n",
    "    else:\n",
    "        print(4)\n",
    "elif i == 6:\n",
    "    print(0)\n",
    "elif i == 7:\n",
    "    print(1)\n",
    "else:\n",
    "    print(i)"
   ]
  },
  {
   "cell_type": "code",
   "execution_count": 101,
   "id": "8572eaa3",
   "metadata": {},
   "outputs": [
    {
     "name": "stdout",
     "output_type": "stream",
     "text": [
      "4 -26 4\n"
     ]
    }
   ],
   "source": [
    "i = randrange(0, 8)\n",
    "r = randrange(-128, 128)\n",
    "c = randrange(0, 8)\n",
    "print(i, r, c)"
   ]
  },
  {
   "cell_type": "code",
   "execution_count": 111,
   "id": "5e82b8d1",
   "metadata": {},
   "outputs": [],
   "source": [
    "df = pd.DataFrame({'i': [], 'r': [], 'c': [], 'output': []})\n",
    "for j in range(20):\n",
    "    i = randrange(0, 8)\n",
    "    r = randrange(-128, 128)\n",
    "    c = randrange(0, 8)\n",
    "    if i == 0:\n",
    "        if r != 0:\n",
    "#             print(3)\n",
    "            df.loc[j] = [i, r, c, 3]\n",
    "        else:\n",
    "#             print(c)\n",
    "            df.loc[j] = [i, r, c, c]\n",
    "    elif i == 1:\n",
    "#         print(c)\n",
    "        df.loc[j] = [i, r, c, c]\n",
    "    elif i == 4:\n",
    "        if r != 0:\n",
    "#             print(3)\n",
    "            df.loc[j] = [i, r, c, 3]\n",
    "        else:\n",
    "#             print(c)\n",
    "            df.loc[j] = [i, r, c, 4]\n",
    "    elif i == 6:\n",
    "#         print(0)\n",
    "        df.loc[j] = [i, r, c, 0]\n",
    "    elif i == 7:\n",
    "#         print(1)\n",
    "        df.loc[j] = [i, r, c, 1]\n",
    "    else:\n",
    "#         print(i)\n",
    "        df.loc[j] = [i, r, c, i]"
   ]
  },
  {
   "cell_type": "code",
   "execution_count": 112,
   "id": "833f8622",
   "metadata": {},
   "outputs": [
    {
     "data": {
      "text/html": [
       "<div>\n",
       "<style scoped>\n",
       "    .dataframe tbody tr th:only-of-type {\n",
       "        vertical-align: middle;\n",
       "    }\n",
       "\n",
       "    .dataframe tbody tr th {\n",
       "        vertical-align: top;\n",
       "    }\n",
       "\n",
       "    .dataframe thead th {\n",
       "        text-align: right;\n",
       "    }\n",
       "</style>\n",
       "<table border=\"1\" class=\"dataframe\">\n",
       "  <thead>\n",
       "    <tr style=\"text-align: right;\">\n",
       "      <th></th>\n",
       "      <th>i</th>\n",
       "      <th>r</th>\n",
       "      <th>c</th>\n",
       "      <th>output</th>\n",
       "    </tr>\n",
       "  </thead>\n",
       "  <tbody>\n",
       "    <tr>\n",
       "      <th>0</th>\n",
       "      <td>3.0</td>\n",
       "      <td>99.0</td>\n",
       "      <td>7.0</td>\n",
       "      <td>3.0</td>\n",
       "    </tr>\n",
       "    <tr>\n",
       "      <th>1</th>\n",
       "      <td>7.0</td>\n",
       "      <td>19.0</td>\n",
       "      <td>4.0</td>\n",
       "      <td>1.0</td>\n",
       "    </tr>\n",
       "    <tr>\n",
       "      <th>2</th>\n",
       "      <td>7.0</td>\n",
       "      <td>89.0</td>\n",
       "      <td>6.0</td>\n",
       "      <td>1.0</td>\n",
       "    </tr>\n",
       "    <tr>\n",
       "      <th>3</th>\n",
       "      <td>5.0</td>\n",
       "      <td>-43.0</td>\n",
       "      <td>6.0</td>\n",
       "      <td>5.0</td>\n",
       "    </tr>\n",
       "    <tr>\n",
       "      <th>4</th>\n",
       "      <td>1.0</td>\n",
       "      <td>-103.0</td>\n",
       "      <td>0.0</td>\n",
       "      <td>0.0</td>\n",
       "    </tr>\n",
       "    <tr>\n",
       "      <th>5</th>\n",
       "      <td>5.0</td>\n",
       "      <td>107.0</td>\n",
       "      <td>4.0</td>\n",
       "      <td>5.0</td>\n",
       "    </tr>\n",
       "    <tr>\n",
       "      <th>6</th>\n",
       "      <td>2.0</td>\n",
       "      <td>60.0</td>\n",
       "      <td>1.0</td>\n",
       "      <td>2.0</td>\n",
       "    </tr>\n",
       "    <tr>\n",
       "      <th>7</th>\n",
       "      <td>2.0</td>\n",
       "      <td>94.0</td>\n",
       "      <td>2.0</td>\n",
       "      <td>2.0</td>\n",
       "    </tr>\n",
       "    <tr>\n",
       "      <th>8</th>\n",
       "      <td>6.0</td>\n",
       "      <td>-17.0</td>\n",
       "      <td>3.0</td>\n",
       "      <td>0.0</td>\n",
       "    </tr>\n",
       "    <tr>\n",
       "      <th>9</th>\n",
       "      <td>0.0</td>\n",
       "      <td>-50.0</td>\n",
       "      <td>4.0</td>\n",
       "      <td>3.0</td>\n",
       "    </tr>\n",
       "    <tr>\n",
       "      <th>10</th>\n",
       "      <td>7.0</td>\n",
       "      <td>-54.0</td>\n",
       "      <td>3.0</td>\n",
       "      <td>1.0</td>\n",
       "    </tr>\n",
       "    <tr>\n",
       "      <th>11</th>\n",
       "      <td>6.0</td>\n",
       "      <td>-82.0</td>\n",
       "      <td>6.0</td>\n",
       "      <td>0.0</td>\n",
       "    </tr>\n",
       "    <tr>\n",
       "      <th>12</th>\n",
       "      <td>2.0</td>\n",
       "      <td>9.0</td>\n",
       "      <td>7.0</td>\n",
       "      <td>2.0</td>\n",
       "    </tr>\n",
       "    <tr>\n",
       "      <th>13</th>\n",
       "      <td>7.0</td>\n",
       "      <td>103.0</td>\n",
       "      <td>2.0</td>\n",
       "      <td>1.0</td>\n",
       "    </tr>\n",
       "    <tr>\n",
       "      <th>14</th>\n",
       "      <td>0.0</td>\n",
       "      <td>45.0</td>\n",
       "      <td>6.0</td>\n",
       "      <td>3.0</td>\n",
       "    </tr>\n",
       "    <tr>\n",
       "      <th>15</th>\n",
       "      <td>1.0</td>\n",
       "      <td>74.0</td>\n",
       "      <td>2.0</td>\n",
       "      <td>2.0</td>\n",
       "    </tr>\n",
       "    <tr>\n",
       "      <th>16</th>\n",
       "      <td>1.0</td>\n",
       "      <td>34.0</td>\n",
       "      <td>4.0</td>\n",
       "      <td>4.0</td>\n",
       "    </tr>\n",
       "    <tr>\n",
       "      <th>17</th>\n",
       "      <td>3.0</td>\n",
       "      <td>96.0</td>\n",
       "      <td>3.0</td>\n",
       "      <td>3.0</td>\n",
       "    </tr>\n",
       "    <tr>\n",
       "      <th>18</th>\n",
       "      <td>4.0</td>\n",
       "      <td>-20.0</td>\n",
       "      <td>0.0</td>\n",
       "      <td>3.0</td>\n",
       "    </tr>\n",
       "    <tr>\n",
       "      <th>19</th>\n",
       "      <td>3.0</td>\n",
       "      <td>54.0</td>\n",
       "      <td>6.0</td>\n",
       "      <td>3.0</td>\n",
       "    </tr>\n",
       "  </tbody>\n",
       "</table>\n",
       "</div>"
      ],
      "text/plain": [
       "      i      r    c  output\n",
       "0   3.0   99.0  7.0     3.0\n",
       "1   7.0   19.0  4.0     1.0\n",
       "2   7.0   89.0  6.0     1.0\n",
       "3   5.0  -43.0  6.0     5.0\n",
       "4   1.0 -103.0  0.0     0.0\n",
       "5   5.0  107.0  4.0     5.0\n",
       "6   2.0   60.0  1.0     2.0\n",
       "7   2.0   94.0  2.0     2.0\n",
       "8   6.0  -17.0  3.0     0.0\n",
       "9   0.0  -50.0  4.0     3.0\n",
       "10  7.0  -54.0  3.0     1.0\n",
       "11  6.0  -82.0  6.0     0.0\n",
       "12  2.0    9.0  7.0     2.0\n",
       "13  7.0  103.0  2.0     1.0\n",
       "14  0.0   45.0  6.0     3.0\n",
       "15  1.0   74.0  2.0     2.0\n",
       "16  1.0   34.0  4.0     4.0\n",
       "17  3.0   96.0  3.0     3.0\n",
       "18  4.0  -20.0  0.0     3.0\n",
       "19  3.0   54.0  6.0     3.0"
      ]
     },
     "execution_count": 112,
     "metadata": {},
     "output_type": "execute_result"
    }
   ],
   "source": [
    "df"
   ]
  },
  {
   "cell_type": "markdown",
   "id": "ca2296d0",
   "metadata": {},
   "source": [
    "# Задача В. Кольцевая линия метро\n",
    "\n",
    "Витя работает недалеко от одной из станций кольцевой линии Московского метро, а живет рядом с другой станцией той же линии. Требуется выяснить, мимо какого наименьшего количества промежуточных станций необходимо проехать Вите по кольцу, чтобы добраться с работы домой.\n",
    "\n",
    "Формат ввода\n",
    "Станции пронумерованы подряд натуральными числами 1, 2, 3, …, N (1-я станция – соседняя с N-й), N не превосходит 100.\n",
    "\n",
    "Вводятся три числа: сначала N – общее количество станций кольцевой линии, а затем i и j – номера станции, на которой Витя садится, и станции, на которой он должен выйти. Числа i и j не совпадают. Все числа разделены пробелом.\n",
    "\n",
    "Формат вывода\n",
    "Требуется выдать минимальное количество промежуточных станций (не считая станции посадки и высадки), которые необходимо проехать Вите.\n",
    "\n",
    "Примечания\n",
    "Пояснения к примерам:\n",
    "\n",
    "1) На кольцевой линии 100 станций; проехать с 5-й на 6-ю станцию Витя может напрямую, без промежуточных станций\n",
    "\n",
    "2) На кольцевой линии 10 станций; проехать с 1-й на 9-ю станцию Витя может через одну промежуточную, ее номер 10"
   ]
  },
  {
   "cell_type": "code",
   "execution_count": 140,
   "id": "8d6422ee",
   "metadata": {},
   "outputs": [
    {
     "ename": "KeyboardInterrupt",
     "evalue": "Interrupted by user",
     "output_type": "error",
     "traceback": [
      "\u001b[1;31m---------------------------------------------------------------------------\u001b[0m",
      "\u001b[1;31mKeyboardInterrupt\u001b[0m                         Traceback (most recent call last)",
      "\u001b[1;32m<ipython-input-140-9f95292ba8fa>\u001b[0m in \u001b[0;36m<module>\u001b[1;34m\u001b[0m\n\u001b[1;32m----> 1\u001b[1;33m \u001b[0mN\u001b[0m\u001b[1;33m,\u001b[0m \u001b[0mi\u001b[0m\u001b[1;33m,\u001b[0m \u001b[0mj\u001b[0m \u001b[1;33m=\u001b[0m \u001b[0mmap\u001b[0m\u001b[1;33m(\u001b[0m\u001b[0mint\u001b[0m\u001b[1;33m,\u001b[0m \u001b[0minput\u001b[0m\u001b[1;33m(\u001b[0m\u001b[1;33m)\u001b[0m\u001b[1;33m.\u001b[0m\u001b[0msplit\u001b[0m\u001b[1;33m(\u001b[0m\u001b[1;33m)\u001b[0m\u001b[1;33m)\u001b[0m\u001b[1;33m\u001b[0m\u001b[1;33m\u001b[0m\u001b[0m\n\u001b[0m\u001b[0;32m      2\u001b[0m \u001b[1;32mif\u001b[0m \u001b[1;33m(\u001b[0m\u001b[0mj\u001b[0m \u001b[1;33m-\u001b[0m \u001b[0mi\u001b[0m \u001b[1;33m-\u001b[0m \u001b[1;36m1\u001b[0m\u001b[1;33m)\u001b[0m \u001b[1;33m<\u001b[0m \u001b[1;33m(\u001b[0m\u001b[0mN\u001b[0m \u001b[1;33m-\u001b[0m \u001b[0mj\u001b[0m \u001b[1;33m-\u001b[0m \u001b[0mi\u001b[0m \u001b[1;33m-\u001b[0m \u001b[1;36m1\u001b[0m\u001b[1;33m)\u001b[0m\u001b[1;33m:\u001b[0m\u001b[1;33m\u001b[0m\u001b[1;33m\u001b[0m\u001b[0m\n\u001b[0;32m      3\u001b[0m     \u001b[0mprint\u001b[0m\u001b[1;33m(\u001b[0m\u001b[0mj\u001b[0m \u001b[1;33m-\u001b[0m \u001b[0mi\u001b[0m \u001b[1;33m-\u001b[0m \u001b[1;36m1\u001b[0m\u001b[1;33m)\u001b[0m\u001b[1;33m\u001b[0m\u001b[1;33m\u001b[0m\u001b[0m\n\u001b[0;32m      4\u001b[0m \u001b[1;32melse\u001b[0m\u001b[1;33m:\u001b[0m\u001b[1;33m\u001b[0m\u001b[1;33m\u001b[0m\u001b[0m\n\u001b[0;32m      5\u001b[0m     \u001b[0mprint\u001b[0m\u001b[1;33m(\u001b[0m\u001b[0mN\u001b[0m \u001b[1;33m-\u001b[0m \u001b[1;33m(\u001b[0m\u001b[0mj\u001b[0m \u001b[1;33m-\u001b[0m \u001b[0mi\u001b[0m\u001b[1;33m)\u001b[0m \u001b[1;33m-\u001b[0m \u001b[1;36m1\u001b[0m\u001b[1;33m)\u001b[0m\u001b[1;33m\u001b[0m\u001b[1;33m\u001b[0m\u001b[0m\n",
      "\u001b[1;32m~\\anaconda3\\lib\\site-packages\\ipykernel\\kernelbase.py\u001b[0m in \u001b[0;36mraw_input\u001b[1;34m(self, prompt)\u001b[0m\n\u001b[0;32m    858\u001b[0m                 \u001b[1;34m\"raw_input was called, but this frontend does not support input requests.\"\u001b[0m\u001b[1;33m\u001b[0m\u001b[1;33m\u001b[0m\u001b[0m\n\u001b[0;32m    859\u001b[0m             )\n\u001b[1;32m--> 860\u001b[1;33m         return self._input_request(str(prompt),\n\u001b[0m\u001b[0;32m    861\u001b[0m             \u001b[0mself\u001b[0m\u001b[1;33m.\u001b[0m\u001b[0m_parent_ident\u001b[0m\u001b[1;33m,\u001b[0m\u001b[1;33m\u001b[0m\u001b[1;33m\u001b[0m\u001b[0m\n\u001b[0;32m    862\u001b[0m             \u001b[0mself\u001b[0m\u001b[1;33m.\u001b[0m\u001b[0m_parent_header\u001b[0m\u001b[1;33m,\u001b[0m\u001b[1;33m\u001b[0m\u001b[1;33m\u001b[0m\u001b[0m\n",
      "\u001b[1;32m~\\anaconda3\\lib\\site-packages\\ipykernel\\kernelbase.py\u001b[0m in \u001b[0;36m_input_request\u001b[1;34m(self, prompt, ident, parent, password)\u001b[0m\n\u001b[0;32m    902\u001b[0m             \u001b[1;32mexcept\u001b[0m \u001b[0mKeyboardInterrupt\u001b[0m\u001b[1;33m:\u001b[0m\u001b[1;33m\u001b[0m\u001b[1;33m\u001b[0m\u001b[0m\n\u001b[0;32m    903\u001b[0m                 \u001b[1;31m# re-raise KeyboardInterrupt, to truncate traceback\u001b[0m\u001b[1;33m\u001b[0m\u001b[1;33m\u001b[0m\u001b[1;33m\u001b[0m\u001b[0m\n\u001b[1;32m--> 904\u001b[1;33m                 \u001b[1;32mraise\u001b[0m \u001b[0mKeyboardInterrupt\u001b[0m\u001b[1;33m(\u001b[0m\u001b[1;34m\"Interrupted by user\"\u001b[0m\u001b[1;33m)\u001b[0m \u001b[1;32mfrom\u001b[0m \u001b[1;32mNone\u001b[0m\u001b[1;33m\u001b[0m\u001b[1;33m\u001b[0m\u001b[0m\n\u001b[0m\u001b[0;32m    905\u001b[0m             \u001b[1;32mexcept\u001b[0m \u001b[0mException\u001b[0m \u001b[1;32mas\u001b[0m \u001b[0me\u001b[0m\u001b[1;33m:\u001b[0m\u001b[1;33m\u001b[0m\u001b[1;33m\u001b[0m\u001b[0m\n\u001b[0;32m    906\u001b[0m                 \u001b[0mself\u001b[0m\u001b[1;33m.\u001b[0m\u001b[0mlog\u001b[0m\u001b[1;33m.\u001b[0m\u001b[0mwarning\u001b[0m\u001b[1;33m(\u001b[0m\u001b[1;34m\"Invalid Message:\"\u001b[0m\u001b[1;33m,\u001b[0m \u001b[0mexc_info\u001b[0m\u001b[1;33m=\u001b[0m\u001b[1;32mTrue\u001b[0m\u001b[1;33m)\u001b[0m\u001b[1;33m\u001b[0m\u001b[1;33m\u001b[0m\u001b[0m\n",
      "\u001b[1;31mKeyboardInterrupt\u001b[0m: Interrupted by user"
     ]
    }
   ],
   "source": [
    "N, i, j = map(int, input().split())\n",
    "if (j - i - 1) <= (N - j - i - 1):\n",
    "    print(j - i - 1)\n",
    "else:\n",
    "    print(N - (j - i) - 1)"
   ]
  },
  {
   "cell_type": "code",
   "execution_count": 135,
   "id": "769fc2ad",
   "metadata": {},
   "outputs": [
    {
     "name": "stdout",
     "output_type": "stream",
     "text": [
      "36\n"
     ]
    }
   ],
   "source": [
    "if (j - i - 1) < (N - j - i - 1):\n",
    "    print(j - i - 1)\n",
    "else:\n",
    "    print(N - (j - i) - 1)\n"
   ]
  },
  {
   "cell_type": "code",
   "execution_count": 190,
   "id": "f8f95c07",
   "metadata": {},
   "outputs": [],
   "source": [
    "df = pd.DataFrame({'N': [], 'i': [], 'j': [], 'output': []})\n",
    "for k in range(20):\n",
    "    N = randrange(1, 100)\n",
    "    i = randrange(1, N)\n",
    "    j = randrange(1, N)\n",
    "    if i < j:\n",
    "        if (j - i) < (N - j + i):\n",
    "            df.loc[k] = [N, i, j, (j - i - 1)]\n",
    "        else:\n",
    "            df.loc[k] = [N, i, j, (N - (j - i) - 1)]\n",
    "    else:\n",
    "        if (i - j) < (N - i + j):\n",
    "            df.loc[k] = [N, i, j, (i - j - 1)]\n",
    "        else:\n",
    "            df.loc[k] = [N, i, j, (N - (i - j) - 1)]"
   ]
  },
  {
   "cell_type": "code",
   "execution_count": 191,
   "id": "b39d2eb5",
   "metadata": {},
   "outputs": [
    {
     "data": {
      "text/html": [
       "<div>\n",
       "<style scoped>\n",
       "    .dataframe tbody tr th:only-of-type {\n",
       "        vertical-align: middle;\n",
       "    }\n",
       "\n",
       "    .dataframe tbody tr th {\n",
       "        vertical-align: top;\n",
       "    }\n",
       "\n",
       "    .dataframe thead th {\n",
       "        text-align: right;\n",
       "    }\n",
       "</style>\n",
       "<table border=\"1\" class=\"dataframe\">\n",
       "  <thead>\n",
       "    <tr style=\"text-align: right;\">\n",
       "      <th></th>\n",
       "      <th>N</th>\n",
       "      <th>i</th>\n",
       "      <th>j</th>\n",
       "      <th>output</th>\n",
       "    </tr>\n",
       "  </thead>\n",
       "  <tbody>\n",
       "    <tr>\n",
       "      <th>0</th>\n",
       "      <td>61.0</td>\n",
       "      <td>54.0</td>\n",
       "      <td>3.0</td>\n",
       "      <td>9.0</td>\n",
       "    </tr>\n",
       "    <tr>\n",
       "      <th>1</th>\n",
       "      <td>78.0</td>\n",
       "      <td>66.0</td>\n",
       "      <td>6.0</td>\n",
       "      <td>17.0</td>\n",
       "    </tr>\n",
       "    <tr>\n",
       "      <th>2</th>\n",
       "      <td>64.0</td>\n",
       "      <td>4.0</td>\n",
       "      <td>19.0</td>\n",
       "      <td>14.0</td>\n",
       "    </tr>\n",
       "    <tr>\n",
       "      <th>3</th>\n",
       "      <td>32.0</td>\n",
       "      <td>24.0</td>\n",
       "      <td>11.0</td>\n",
       "      <td>12.0</td>\n",
       "    </tr>\n",
       "    <tr>\n",
       "      <th>4</th>\n",
       "      <td>24.0</td>\n",
       "      <td>1.0</td>\n",
       "      <td>13.0</td>\n",
       "      <td>11.0</td>\n",
       "    </tr>\n",
       "    <tr>\n",
       "      <th>5</th>\n",
       "      <td>45.0</td>\n",
       "      <td>40.0</td>\n",
       "      <td>34.0</td>\n",
       "      <td>5.0</td>\n",
       "    </tr>\n",
       "    <tr>\n",
       "      <th>6</th>\n",
       "      <td>73.0</td>\n",
       "      <td>4.0</td>\n",
       "      <td>34.0</td>\n",
       "      <td>29.0</td>\n",
       "    </tr>\n",
       "    <tr>\n",
       "      <th>7</th>\n",
       "      <td>9.0</td>\n",
       "      <td>2.0</td>\n",
       "      <td>1.0</td>\n",
       "      <td>0.0</td>\n",
       "    </tr>\n",
       "    <tr>\n",
       "      <th>8</th>\n",
       "      <td>12.0</td>\n",
       "      <td>8.0</td>\n",
       "      <td>7.0</td>\n",
       "      <td>0.0</td>\n",
       "    </tr>\n",
       "    <tr>\n",
       "      <th>9</th>\n",
       "      <td>14.0</td>\n",
       "      <td>7.0</td>\n",
       "      <td>6.0</td>\n",
       "      <td>0.0</td>\n",
       "    </tr>\n",
       "    <tr>\n",
       "      <th>10</th>\n",
       "      <td>55.0</td>\n",
       "      <td>47.0</td>\n",
       "      <td>15.0</td>\n",
       "      <td>22.0</td>\n",
       "    </tr>\n",
       "    <tr>\n",
       "      <th>11</th>\n",
       "      <td>68.0</td>\n",
       "      <td>47.0</td>\n",
       "      <td>44.0</td>\n",
       "      <td>2.0</td>\n",
       "    </tr>\n",
       "    <tr>\n",
       "      <th>12</th>\n",
       "      <td>97.0</td>\n",
       "      <td>95.0</td>\n",
       "      <td>40.0</td>\n",
       "      <td>41.0</td>\n",
       "    </tr>\n",
       "    <tr>\n",
       "      <th>13</th>\n",
       "      <td>40.0</td>\n",
       "      <td>26.0</td>\n",
       "      <td>14.0</td>\n",
       "      <td>11.0</td>\n",
       "    </tr>\n",
       "    <tr>\n",
       "      <th>14</th>\n",
       "      <td>8.0</td>\n",
       "      <td>3.0</td>\n",
       "      <td>5.0</td>\n",
       "      <td>1.0</td>\n",
       "    </tr>\n",
       "    <tr>\n",
       "      <th>15</th>\n",
       "      <td>71.0</td>\n",
       "      <td>70.0</td>\n",
       "      <td>43.0</td>\n",
       "      <td>26.0</td>\n",
       "    </tr>\n",
       "    <tr>\n",
       "      <th>16</th>\n",
       "      <td>35.0</td>\n",
       "      <td>22.0</td>\n",
       "      <td>16.0</td>\n",
       "      <td>5.0</td>\n",
       "    </tr>\n",
       "    <tr>\n",
       "      <th>17</th>\n",
       "      <td>94.0</td>\n",
       "      <td>27.0</td>\n",
       "      <td>83.0</td>\n",
       "      <td>37.0</td>\n",
       "    </tr>\n",
       "    <tr>\n",
       "      <th>18</th>\n",
       "      <td>97.0</td>\n",
       "      <td>17.0</td>\n",
       "      <td>29.0</td>\n",
       "      <td>11.0</td>\n",
       "    </tr>\n",
       "    <tr>\n",
       "      <th>19</th>\n",
       "      <td>26.0</td>\n",
       "      <td>23.0</td>\n",
       "      <td>13.0</td>\n",
       "      <td>9.0</td>\n",
       "    </tr>\n",
       "  </tbody>\n",
       "</table>\n",
       "</div>"
      ],
      "text/plain": [
       "       N     i     j  output\n",
       "0   61.0  54.0   3.0     9.0\n",
       "1   78.0  66.0   6.0    17.0\n",
       "2   64.0   4.0  19.0    14.0\n",
       "3   32.0  24.0  11.0    12.0\n",
       "4   24.0   1.0  13.0    11.0\n",
       "5   45.0  40.0  34.0     5.0\n",
       "6   73.0   4.0  34.0    29.0\n",
       "7    9.0   2.0   1.0     0.0\n",
       "8   12.0   8.0   7.0     0.0\n",
       "9   14.0   7.0   6.0     0.0\n",
       "10  55.0  47.0  15.0    22.0\n",
       "11  68.0  47.0  44.0     2.0\n",
       "12  97.0  95.0  40.0    41.0\n",
       "13  40.0  26.0  14.0    11.0\n",
       "14   8.0   3.0   5.0     1.0\n",
       "15  71.0  70.0  43.0    26.0\n",
       "16  35.0  22.0  16.0     5.0\n",
       "17  94.0  27.0  83.0    37.0\n",
       "18  97.0  17.0  29.0    11.0\n",
       "19  26.0  23.0  13.0     9.0"
      ]
     },
     "execution_count": 191,
     "metadata": {},
     "output_type": "execute_result"
    }
   ],
   "source": [
    "df"
   ]
  },
  {
   "cell_type": "code",
   "execution_count": 163,
   "id": "969d6f3c",
   "metadata": {},
   "outputs": [
    {
     "name": "stdout",
     "output_type": "stream",
     "text": [
      "100 5 8\n",
      "2\n"
     ]
    }
   ],
   "source": [
    "N, i, j = map(int, input().split())\n",
    "\n",
    "if i < j:\n",
    "    if (j - i) < (N - j + i):\n",
    "        print(j - i - 1)\n",
    "    else:\n",
    "        print(N - (j - i) - 1)\n",
    "else:\n",
    "    if (i - j) < (N - i + j):\n",
    "        print(i - j - 1)\n",
    "    else:\n",
    "        print(N - (i - j) - 1)"
   ]
  },
  {
   "cell_type": "markdown",
   "id": "66f0e6e1",
   "metadata": {},
   "source": [
    "# Задача С. Даты\n",
    "\n",
    "Как известно, два наиболее распространённых формата записи даты — это европейский (сначала день, потом месяц, потом год) и американски (сначала месяц, потом день, потом год). Системный администратор поменял дату на одном из бэкапов и сейчас хочет вернуть дату обратно. Но он не проверил, в каком формате дата используется в системе. Может ли он обойтись без этой информации?\n",
    "Иначе говоря, вам даётся запись некоторой корректной даты. Требуется выяснить, однозначно ли по этой записи определяется дата даже без дополнительной информации о формате.\n",
    "\n",
    "### Формат ввода\n",
    "\n",
    "Первая строка входных данных содержит три целых числа — \n",
    "x,y и z (1 ≤ x ≤ 31, 1 ≤ y ≤ 31, 1970 ≤ z ≤ 2069). \n",
    "Гарантируется, что хотя бы в одном формате запись xyz задаёт корректную дату.\n",
    "\n",
    "### Формат вывода\n",
    "\n",
    "Выведите 1, если дата определяется однозначно, и 0 в противном случае."
   ]
  },
  {
   "cell_type": "code",
   "execution_count": null,
   "id": "57473247",
   "metadata": {},
   "outputs": [],
   "source": [
    "a, b, y = map(int, input().split())"
   ]
  },
  {
   "cell_type": "code",
   "execution_count": 197,
   "id": "36716a78",
   "metadata": {},
   "outputs": [],
   "source": [
    "# a, b, y = 15, 21, 2003\n",
    "df = pd.DataFrame({'a': [], 'b': [], 'output': []})\n",
    "for k in range(20):\n",
    "    a = randrange(11, 15)\n",
    "    b = randrange(11, 15)\n",
    "    if (a <= 12 and b <= 12) or (a > 12 and b > 12):\n",
    "#         print(0)\n",
    "        df.loc[k] = [a, b, 0]\n",
    "    else:\n",
    "#         print(1)\n",
    "        df.loc[k] = [a, b, 1]\n"
   ]
  },
  {
   "cell_type": "code",
   "execution_count": 198,
   "id": "48b35b8e",
   "metadata": {
    "scrolled": true
   },
   "outputs": [
    {
     "data": {
      "text/html": [
       "<div>\n",
       "<style scoped>\n",
       "    .dataframe tbody tr th:only-of-type {\n",
       "        vertical-align: middle;\n",
       "    }\n",
       "\n",
       "    .dataframe tbody tr th {\n",
       "        vertical-align: top;\n",
       "    }\n",
       "\n",
       "    .dataframe thead th {\n",
       "        text-align: right;\n",
       "    }\n",
       "</style>\n",
       "<table border=\"1\" class=\"dataframe\">\n",
       "  <thead>\n",
       "    <tr style=\"text-align: right;\">\n",
       "      <th></th>\n",
       "      <th>a</th>\n",
       "      <th>b</th>\n",
       "      <th>output</th>\n",
       "    </tr>\n",
       "  </thead>\n",
       "  <tbody>\n",
       "    <tr>\n",
       "      <th>0</th>\n",
       "      <td>13.0</td>\n",
       "      <td>14.0</td>\n",
       "      <td>0.0</td>\n",
       "    </tr>\n",
       "    <tr>\n",
       "      <th>1</th>\n",
       "      <td>12.0</td>\n",
       "      <td>14.0</td>\n",
       "      <td>1.0</td>\n",
       "    </tr>\n",
       "    <tr>\n",
       "      <th>2</th>\n",
       "      <td>11.0</td>\n",
       "      <td>14.0</td>\n",
       "      <td>1.0</td>\n",
       "    </tr>\n",
       "    <tr>\n",
       "      <th>3</th>\n",
       "      <td>12.0</td>\n",
       "      <td>11.0</td>\n",
       "      <td>0.0</td>\n",
       "    </tr>\n",
       "    <tr>\n",
       "      <th>4</th>\n",
       "      <td>12.0</td>\n",
       "      <td>13.0</td>\n",
       "      <td>1.0</td>\n",
       "    </tr>\n",
       "    <tr>\n",
       "      <th>5</th>\n",
       "      <td>14.0</td>\n",
       "      <td>13.0</td>\n",
       "      <td>0.0</td>\n",
       "    </tr>\n",
       "    <tr>\n",
       "      <th>6</th>\n",
       "      <td>14.0</td>\n",
       "      <td>11.0</td>\n",
       "      <td>1.0</td>\n",
       "    </tr>\n",
       "    <tr>\n",
       "      <th>7</th>\n",
       "      <td>11.0</td>\n",
       "      <td>13.0</td>\n",
       "      <td>1.0</td>\n",
       "    </tr>\n",
       "    <tr>\n",
       "      <th>8</th>\n",
       "      <td>13.0</td>\n",
       "      <td>13.0</td>\n",
       "      <td>0.0</td>\n",
       "    </tr>\n",
       "    <tr>\n",
       "      <th>9</th>\n",
       "      <td>12.0</td>\n",
       "      <td>12.0</td>\n",
       "      <td>0.0</td>\n",
       "    </tr>\n",
       "    <tr>\n",
       "      <th>10</th>\n",
       "      <td>13.0</td>\n",
       "      <td>13.0</td>\n",
       "      <td>0.0</td>\n",
       "    </tr>\n",
       "    <tr>\n",
       "      <th>11</th>\n",
       "      <td>14.0</td>\n",
       "      <td>11.0</td>\n",
       "      <td>1.0</td>\n",
       "    </tr>\n",
       "    <tr>\n",
       "      <th>12</th>\n",
       "      <td>12.0</td>\n",
       "      <td>13.0</td>\n",
       "      <td>1.0</td>\n",
       "    </tr>\n",
       "    <tr>\n",
       "      <th>13</th>\n",
       "      <td>12.0</td>\n",
       "      <td>13.0</td>\n",
       "      <td>1.0</td>\n",
       "    </tr>\n",
       "    <tr>\n",
       "      <th>14</th>\n",
       "      <td>11.0</td>\n",
       "      <td>12.0</td>\n",
       "      <td>0.0</td>\n",
       "    </tr>\n",
       "    <tr>\n",
       "      <th>15</th>\n",
       "      <td>13.0</td>\n",
       "      <td>14.0</td>\n",
       "      <td>0.0</td>\n",
       "    </tr>\n",
       "    <tr>\n",
       "      <th>16</th>\n",
       "      <td>13.0</td>\n",
       "      <td>11.0</td>\n",
       "      <td>1.0</td>\n",
       "    </tr>\n",
       "    <tr>\n",
       "      <th>17</th>\n",
       "      <td>11.0</td>\n",
       "      <td>12.0</td>\n",
       "      <td>0.0</td>\n",
       "    </tr>\n",
       "    <tr>\n",
       "      <th>18</th>\n",
       "      <td>14.0</td>\n",
       "      <td>13.0</td>\n",
       "      <td>0.0</td>\n",
       "    </tr>\n",
       "    <tr>\n",
       "      <th>19</th>\n",
       "      <td>14.0</td>\n",
       "      <td>13.0</td>\n",
       "      <td>0.0</td>\n",
       "    </tr>\n",
       "  </tbody>\n",
       "</table>\n",
       "</div>"
      ],
      "text/plain": [
       "       a     b  output\n",
       "0   13.0  14.0     0.0\n",
       "1   12.0  14.0     1.0\n",
       "2   11.0  14.0     1.0\n",
       "3   12.0  11.0     0.0\n",
       "4   12.0  13.0     1.0\n",
       "5   14.0  13.0     0.0\n",
       "6   14.0  11.0     1.0\n",
       "7   11.0  13.0     1.0\n",
       "8   13.0  13.0     0.0\n",
       "9   12.0  12.0     0.0\n",
       "10  13.0  13.0     0.0\n",
       "11  14.0  11.0     1.0\n",
       "12  12.0  13.0     1.0\n",
       "13  12.0  13.0     1.0\n",
       "14  11.0  12.0     0.0\n",
       "15  13.0  14.0     0.0\n",
       "16  13.0  11.0     1.0\n",
       "17  11.0  12.0     0.0\n",
       "18  14.0  13.0     0.0\n",
       "19  14.0  13.0     0.0"
      ]
     },
     "execution_count": 198,
     "metadata": {},
     "output_type": "execute_result"
    }
   ],
   "source": [
    "df"
   ]
  },
  {
   "cell_type": "code",
   "execution_count": 185,
   "id": "2e664b4b",
   "metadata": {},
   "outputs": [
    {
     "name": "stdout",
     "output_type": "stream",
     "text": [
      "13 4 1234\n",
      "1\n"
     ]
    }
   ],
   "source": [
    "x, y, z = map(int, input().split())\n",
    "if (a <= 12 and b <= 12) or (a > 12 and b > 12):\n",
    "    print(0)\n",
    "else:\n",
    "    print(1)"
   ]
  },
  {
   "cell_type": "markdown",
   "id": "94f321b7",
   "metadata": {},
   "source": [
    "___"
   ]
  },
  {
   "cell_type": "markdown",
   "id": "3d3c5aa1",
   "metadata": {},
   "source": [
    "# Задача D. Строительство школы\n",
    "\n",
    "В деревне Интернетовка все дома расположены вдоль одной улицы по одну сторону от нее. По другую сторону от этой улицы пока ничего нет, но скоро все будет – школы, магазины, кинотеатры и т.д.\n",
    "\n",
    "Для начала в этой деревне решили построить школу. Место для строительства школы решили выбрать так, чтобы суммарное расстояние, которое проезжают ученики от своих домов до школы, было минимально.\n",
    "\n",
    "План деревни можно представить в виде прямой, в некоторых целочисленных точках которой находятся дома учеников. Школу также разрешается строить только в целочисленной точке этой прямой (в том числе разрешается строить школу в точке, где расположен один из домов – ведь школа будет расположена с другой стороны улицы).\n",
    "\n",
    "Напишите программу, которая по известным координатам домов учеников поможет определить координаты места строительства школы.\n",
    "\n",
    "### Формат ввода\n",
    "Сначала вводится число N — количество учеников (0 < N < 100001). Далее идут в строго возрастающем порядке координаты домов учеников — целые числа, не превосходящие 2 × 10^9 по модулю.\n",
    "\n",
    "### Формат вывода\n",
    "Выведите одно целое число — координату точки, в которой лучше всего построить школу. Если ответов несколько, выведите любой из них."
   ]
  },
  {
   "cell_type": "markdown",
   "id": "b0a09bff",
   "metadata": {},
   "source": [
    "___"
   ]
  },
  {
   "cell_type": "code",
   "execution_count": 263,
   "id": "77d08b24",
   "metadata": {},
   "outputs": [
    {
     "name": "stdout",
     "output_type": "stream",
     "text": [
      "5\n",
      "1 3 5 7 9\n"
     ]
    },
    {
     "data": {
      "text/plain": [
       "5"
      ]
     },
     "execution_count": 263,
     "metadata": {},
     "output_type": "execute_result"
    }
   ],
   "source": [
    "def int_r(num):\n",
    "    num = int(num + (0.5 if num > 0 else -0.5))\n",
    "    return num\n",
    "\n",
    "\n",
    "N = int(input())\n",
    "arr = list(map(int, input().split()))\n",
    "int_r(sum(arr)/N)"
   ]
  },
  {
   "cell_type": "code",
   "execution_count": 262,
   "id": "4a7281b4",
   "metadata": {},
   "outputs": [
    {
     "name": "stdout",
     "output_type": "stream",
     "text": [
      "[5, 3, 3, 4]\n",
      "[6, 4, 2, 3]\n",
      "[4, 2, 4, 5]\n",
      "15 15 15\n"
     ]
    }
   ],
   "source": [
    "# print(sum(arr))\n",
    "# print(sum(arr)/N)\n",
    "aver = int_r(sum(arr)/N)\n",
    "otstup = 1\n",
    "new_list = [abs(el - aver) for el in arr]\n",
    "new_list_r = [abs(el - aver - otstup) for el in arr]\n",
    "new_list_l = [abs(el - aver + otstup) for el in arr]\n",
    "\n",
    "print(new_list)\n",
    "print(new_list_r)\n",
    "print(new_list_l)\n",
    "print(sum(new_list), sum(new_list_r), sum(new_list_l))"
   ]
  },
  {
   "cell_type": "code",
   "execution_count": 268,
   "id": "a4c25e58",
   "metadata": {},
   "outputs": [],
   "source": [
    "def f(lst, x):\n",
    "    new_lst = [abs(el - x) for el in lst]\n",
    "    return sum(new_lst)/len(new_lst)"
   ]
  },
  {
   "cell_type": "code",
   "execution_count": 284,
   "id": "ab909b87",
   "metadata": {},
   "outputs": [
    {
     "data": {
      "text/plain": [
       "[<matplotlib.lines.Line2D at 0x1e99408a9a0>]"
      ]
     },
     "execution_count": 284,
     "metadata": {},
     "output_type": "execute_result"
    },
    {
     "data": {
      "image/png": "[encoded data removed]",
      "text/plain": [
       "<Figure size 432x288 with 1 Axes>"
      ]
     },
     "metadata": {
      "needs_background": "light"
     },
     "output_type": "display_data"
    }
   ],
   "source": [
    "import matplotlib.pyplot as plt\n",
    "\n",
    "x = list(range(min(arr), max(arr)))\n",
    "y = [f(arr, el) for el in x]\n",
    "plt.plot(x, y)"
   ]
  },
  {
   "cell_type": "code",
   "execution_count": 285,
   "id": "789e2e30",
   "metadata": {},
   "outputs": [
    {
     "name": "stdout",
     "output_type": "stream",
     "text": [
      "[1, 2, 3, 4, 5, 6, 7, 8]\n",
      "[4.0, 3.4, 2.8, 2.6, 2.4, 2.6, 2.8, 3.4]\n"
     ]
    }
   ],
   "source": [
    "print(x)\n",
    "print(y)"
   ]
  },
  {
   "cell_type": "code",
   "execution_count": 288,
   "id": "7dd510e3",
   "metadata": {},
   "outputs": [
    {
     "data": {
      "text/plain": [
       "5"
      ]
     },
     "execution_count": 288,
     "metadata": {},
     "output_type": "execute_result"
    }
   ],
   "source": [
    "x[y.index(min(y))]"
   ]
  },
  {
   "cell_type": "code",
   "execution_count": null,
   "id": "582970a8",
   "metadata": {},
   "outputs": [],
   "source": []
  },
  {
   "cell_type": "code",
   "execution_count": null,
   "id": "016c9010",
   "metadata": {},
   "outputs": [],
   "source": []
  },
  {
   "cell_type": "code",
   "execution_count": null,
   "id": "171fe30e",
   "metadata": {},
   "outputs": [],
   "source": []
  },
  {
   "cell_type": "code",
   "execution_count": 311,
   "id": "ec47a67c",
   "metadata": {},
   "outputs": [
    {
     "name": "stdout",
     "output_type": "stream",
     "text": [
      "7\n",
      "-1 0 1 12 11 10 9\n",
      "9\n"
     ]
    }
   ],
   "source": [
    "def f(lst, x):\n",
    "    new_lst = [abs(el - x) for el in lst]\n",
    "    return sum(new_lst)/len(new_lst)\n",
    "\n",
    "\n",
    "N = int(input())\n",
    "arr = list(map(int, input().split()))\n",
    "int_r(sum(arr)/N)\n",
    "\n",
    "x = arr\n",
    "y = [f(arr, el) for el in x]\n",
    "\n",
    "print()\n",
    "print(x[y.index(min(y))])"
   ]
  },
  {
   "cell_type": "code",
   "execution_count": 312,
   "id": "d0568a41",
   "metadata": {},
   "outputs": [
    {
     "name": "stdout",
     "output_type": "stream",
     "text": [
      "[-1, 0, 1, 12, 11, 10, 9]\n"
     ]
    }
   ],
   "source": [
    "print(x)"
   ]
  },
  {
   "cell_type": "code",
   "execution_count": 313,
   "id": "7fb73d01",
   "metadata": {},
   "outputs": [
    {
     "name": "stdout",
     "output_type": "stream",
     "text": [
      "[7.0, 6.285714285714286, 5.857142857142857, 6.0, 5.285714285714286, 4.857142857142857, 4.714285714285714]\n"
     ]
    }
   ],
   "source": [
    "print(y)"
   ]
  },
  {
   "cell_type": "code",
   "execution_count": 314,
   "id": "b07ca6bd",
   "metadata": {},
   "outputs": [
    {
     "data": {
      "text/plain": [
       "[<matplotlib.lines.Line2D at 0x1e9942f3970>]"
      ]
     },
     "execution_count": 314,
     "metadata": {},
     "output_type": "execute_result"
    },
    {
     "data": {
      "image/png": "[encoded data removed]",
      "text/plain": [
       "<Figure size 432x288 with 1 Axes>"
      ]
     },
     "metadata": {
      "needs_background": "light"
     },
     "output_type": "display_data"
    }
   ],
   "source": [
    "plt.plot(x, y)"
   ]
  },
  {
   "cell_type": "code",
   "execution_count": null,
   "id": "1a5b6ac1",
   "metadata": {},
   "outputs": [],
   "source": []
  },
  {
   "cell_type": "code",
   "execution_count": null,
   "id": "0ba01442",
   "metadata": {},
   "outputs": [],
   "source": []
  },
  {
   "cell_type": "code",
   "execution_count": null,
   "id": "eb151f37",
   "metadata": {},
   "outputs": [],
   "source": []
  },
  {
   "cell_type": "code",
   "execution_count": 226,
   "id": "151669c4",
   "metadata": {},
   "outputs": [],
   "source": [
    "df = pd.DataFrame({'N': [], 'list': [], 'output': []})\n",
    "for k in range(20):\n",
    "    lst = []\n",
    "    N = randrange(1, 10)\n",
    "    for i in range(N):\n",
    "        lst.append(randrange(-20, 20))\n",
    "    df.loc[k] = [N, lst, int_r(sum(lst)/N)]"
   ]
  },
  {
   "cell_type": "code",
   "execution_count": 227,
   "id": "59c914ca",
   "metadata": {},
   "outputs": [
    {
     "data": {
      "text/html": [
       "<div>\n",
       "<style scoped>\n",
       "    .dataframe tbody tr th:only-of-type {\n",
       "        vertical-align: middle;\n",
       "    }\n",
       "\n",
       "    .dataframe tbody tr th {\n",
       "        vertical-align: top;\n",
       "    }\n",
       "\n",
       "    .dataframe thead th {\n",
       "        text-align: right;\n",
       "    }\n",
       "</style>\n",
       "<table border=\"1\" class=\"dataframe\">\n",
       "  <thead>\n",
       "    <tr style=\"text-align: right;\">\n",
       "      <th></th>\n",
       "      <th>N</th>\n",
       "      <th>list</th>\n",
       "      <th>output</th>\n",
       "    </tr>\n",
       "  </thead>\n",
       "  <tbody>\n",
       "    <tr>\n",
       "      <th>0</th>\n",
       "      <td>4.0</td>\n",
       "      <td>[-7, -14, 17, 6]</td>\n",
       "      <td>1.0</td>\n",
       "    </tr>\n",
       "    <tr>\n",
       "      <th>1</th>\n",
       "      <td>7.0</td>\n",
       "      <td>[13, 19, -5, 9, -19, -13, -7]</td>\n",
       "      <td>0.0</td>\n",
       "    </tr>\n",
       "    <tr>\n",
       "      <th>2</th>\n",
       "      <td>4.0</td>\n",
       "      <td>[-15, 1, -13, -20]</td>\n",
       "      <td>-12.0</td>\n",
       "    </tr>\n",
       "    <tr>\n",
       "      <th>3</th>\n",
       "      <td>9.0</td>\n",
       "      <td>[-4, -19, 10, -4, 2, -16, -15, 4, 13]</td>\n",
       "      <td>-3.0</td>\n",
       "    </tr>\n",
       "    <tr>\n",
       "      <th>4</th>\n",
       "      <td>8.0</td>\n",
       "      <td>[-15, -1, -6, -2, -20, -18, -9, 3]</td>\n",
       "      <td>-9.0</td>\n",
       "    </tr>\n",
       "    <tr>\n",
       "      <th>5</th>\n",
       "      <td>1.0</td>\n",
       "      <td>[17]</td>\n",
       "      <td>17.0</td>\n",
       "    </tr>\n",
       "    <tr>\n",
       "      <th>6</th>\n",
       "      <td>2.0</td>\n",
       "      <td>[-2, -1]</td>\n",
       "      <td>-2.0</td>\n",
       "    </tr>\n",
       "    <tr>\n",
       "      <th>7</th>\n",
       "      <td>7.0</td>\n",
       "      <td>[10, 4, -5, 17, 15, -12, -16]</td>\n",
       "      <td>2.0</td>\n",
       "    </tr>\n",
       "    <tr>\n",
       "      <th>8</th>\n",
       "      <td>1.0</td>\n",
       "      <td>[2]</td>\n",
       "      <td>2.0</td>\n",
       "    </tr>\n",
       "    <tr>\n",
       "      <th>9</th>\n",
       "      <td>6.0</td>\n",
       "      <td>[16, 7, 13, -16, 9, 3]</td>\n",
       "      <td>5.0</td>\n",
       "    </tr>\n",
       "    <tr>\n",
       "      <th>10</th>\n",
       "      <td>8.0</td>\n",
       "      <td>[4, 1, -18, 18, -3, -20, -1, -19]</td>\n",
       "      <td>-5.0</td>\n",
       "    </tr>\n",
       "    <tr>\n",
       "      <th>11</th>\n",
       "      <td>7.0</td>\n",
       "      <td>[13, -17, 16, 14, -16, -7, 19]</td>\n",
       "      <td>3.0</td>\n",
       "    </tr>\n",
       "    <tr>\n",
       "      <th>12</th>\n",
       "      <td>7.0</td>\n",
       "      <td>[17, -1, -1, -18, 10, -3, -18]</td>\n",
       "      <td>-2.0</td>\n",
       "    </tr>\n",
       "    <tr>\n",
       "      <th>13</th>\n",
       "      <td>4.0</td>\n",
       "      <td>[12, -1, -9, -16]</td>\n",
       "      <td>-4.0</td>\n",
       "    </tr>\n",
       "    <tr>\n",
       "      <th>14</th>\n",
       "      <td>9.0</td>\n",
       "      <td>[-14, 4, 11, -14, -9, -3, 11, -10, -8]</td>\n",
       "      <td>-4.0</td>\n",
       "    </tr>\n",
       "    <tr>\n",
       "      <th>15</th>\n",
       "      <td>9.0</td>\n",
       "      <td>[12, -12, -20, 19, 13, 19, -8, 9, 14]</td>\n",
       "      <td>5.0</td>\n",
       "    </tr>\n",
       "    <tr>\n",
       "      <th>16</th>\n",
       "      <td>2.0</td>\n",
       "      <td>[-18, -3]</td>\n",
       "      <td>-11.0</td>\n",
       "    </tr>\n",
       "    <tr>\n",
       "      <th>17</th>\n",
       "      <td>9.0</td>\n",
       "      <td>[10, -4, 2, 4, -7, -16, -10, 3, 12]</td>\n",
       "      <td>-1.0</td>\n",
       "    </tr>\n",
       "    <tr>\n",
       "      <th>18</th>\n",
       "      <td>1.0</td>\n",
       "      <td>[-20]</td>\n",
       "      <td>-20.0</td>\n",
       "    </tr>\n",
       "    <tr>\n",
       "      <th>19</th>\n",
       "      <td>5.0</td>\n",
       "      <td>[-12, -2, -17, 16, -6]</td>\n",
       "      <td>-4.0</td>\n",
       "    </tr>\n",
       "  </tbody>\n",
       "</table>\n",
       "</div>"
      ],
      "text/plain": [
       "      N                                    list  output\n",
       "0   4.0                        [-7, -14, 17, 6]     1.0\n",
       "1   7.0           [13, 19, -5, 9, -19, -13, -7]     0.0\n",
       "2   4.0                      [-15, 1, -13, -20]   -12.0\n",
       "3   9.0   [-4, -19, 10, -4, 2, -16, -15, 4, 13]    -3.0\n",
       "4   8.0      [-15, -1, -6, -2, -20, -18, -9, 3]    -9.0\n",
       "5   1.0                                    [17]    17.0\n",
       "6   2.0                                [-2, -1]    -2.0\n",
       "7   7.0           [10, 4, -5, 17, 15, -12, -16]     2.0\n",
       "8   1.0                                     [2]     2.0\n",
       "9   6.0                  [16, 7, 13, -16, 9, 3]     5.0\n",
       "10  8.0       [4, 1, -18, 18, -3, -20, -1, -19]    -5.0\n",
       "11  7.0          [13, -17, 16, 14, -16, -7, 19]     3.0\n",
       "12  7.0          [17, -1, -1, -18, 10, -3, -18]    -2.0\n",
       "13  4.0                       [12, -1, -9, -16]    -4.0\n",
       "14  9.0  [-14, 4, 11, -14, -9, -3, 11, -10, -8]    -4.0\n",
       "15  9.0   [12, -12, -20, 19, 13, 19, -8, 9, 14]     5.0\n",
       "16  2.0                               [-18, -3]   -11.0\n",
       "17  9.0     [10, -4, 2, 4, -7, -16, -10, 3, 12]    -1.0\n",
       "18  1.0                                   [-20]   -20.0\n",
       "19  5.0                  [-12, -2, -17, 16, -6]    -4.0"
      ]
     },
     "execution_count": 227,
     "metadata": {},
     "output_type": "execute_result"
    }
   ],
   "source": [
    "df"
   ]
  },
  {
   "cell_type": "code",
   "execution_count": null,
   "id": "0dfc039e",
   "metadata": {},
   "outputs": [],
   "source": []
  }
 ],
 "metadata": {
  "kernelspec": {
   "display_name": "Python 3",
   "language": "python",
   "name": "python3"
  },
  "language_info": {
   "codemirror_mode": {
    "name": "ipython",
    "version": 3
   },
   "file_extension": ".py",
   "mimetype": "text/x-python",
   "name": "python",
   "nbconvert_exporter": "python",
   "pygments_lexer": "ipython3",
   "version": "3.8.8"
  }
 },
 "nbformat": 4,
 "nbformat_minor": 5
}
